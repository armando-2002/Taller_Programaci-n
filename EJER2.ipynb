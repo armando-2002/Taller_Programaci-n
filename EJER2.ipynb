{
 "cells": [
  {
   "cell_type": "code",
   "execution_count": null,
   "id": "50cacdeb-a601-4edd-935b-50fa41dcb953",
   "metadata": {},
   "outputs": [],
   "source": [
    "'''\n",
    "Taller grupal\n",
    "Integrantes:\n",
    "    Jose Sarango\n",
    "    Joel Quilumba\n",
    "    Stefany Espin\n",
    "'''"
   ]
  },
  {
   "cell_type": "code",
   "execution_count": null,
   "id": "9e3bcc3b-efb7-4e52-9e1d-8fcc5bd9f53b",
   "metadata": {},
   "outputs": [],
   "source": [
    "def Make_Distinct(arr):\n",
    "    arr.sort()\n",
    "    operations = 0\n",
    "    used = set()\n",
    "\n",
    "    for num in arr:\n",
    "        if num in used:\n",
    "            decrement = num - 1\n",
    "            increment = num + 1\n",
    "\n",
    "            # Try to decrement\n",
    "            while decrement in used and decrement > 1:\n",
    "                decrement -= 1\n",
    "                operations += 1\n",
    "\n",
    "            if decrement > 0:\n",
    "                used.add(decrement)\n",
    "                continue\n",
    "\n",
    "            # If decrementing is not possible, try to increment\n",
    "            while increment in used:\n",
    "                increment += 1\n",
    "                operations += 1\n",
    "\n",
    "            used.add(increment)\n",
    "        else:\n",
    "            used.add(num)\n",
    "\n",
    "    return operations\n",
    "\n",
    "\n",
    "def main():\n",
    "    import sys\n",
    "    input = sys.stdin.read\n",
    "    data = input().split()\n",
    "\n",
    "    N = int(data[0])\n",
    "    A = list(map(int, data[1:1+N]))\n",
    "\n",
    "    result = Make_Distinct(A)\n",
    "    print(result)\n",
    "\n",
    "# Si ejecutas este archivo directamente, llama a la función principal\n",
    "if __name__ == \"__main__\":\n",
    "    main()\n"
   ]
  }
 ],
 "metadata": {
  "kernelspec": {
   "display_name": "Python 3 (ipykernel)",
   "language": "python",
   "name": "python3"
  },
  "language_info": {
   "codemirror_mode": {
    "name": "ipython",
    "version": 3
   },
   "file_extension": ".py",
   "mimetype": "text/x-python",
   "name": "python",
   "nbconvert_exporter": "python",
   "pygments_lexer": "ipython3",
   "version": "3.11.7"
  }
 },
 "nbformat": 4,
 "nbformat_minor": 5
}

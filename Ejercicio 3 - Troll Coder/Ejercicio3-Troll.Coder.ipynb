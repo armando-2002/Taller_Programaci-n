{
 "cells": [
  {
   "cell_type": "markdown",
   "id": "33f2db9c-c883-447e-ad9d-b149842b7dd3",
   "metadata": {},
   "source": [
    "# Troll Coder\n",
    "\n",
    "Integrantes:\n",
    "\n",
    "- Stefany Espin\n",
    "- Joel Quilumba\n",
    "- Jose Armando Sarango"
   ]
  },
  {
   "cell_type": "code",
   "execution_count": null,
   "id": "ef7f98b5-ce36-426e-8fd3-d22787db14d2",
   "metadata": {},
   "outputs": [],
   "source": [
    "def query(bits):\n",
    "    print(\"Q\", \" \".join(map(str, bits)))\n",
    "    correct_bits = int(input().strip())\n",
    "    return correct_bits\n",
    "\n",
    "def main():\n",
    "    N = int(input().strip())\n",
    "    bits = [0] * N\n",
    "\n",
    "    correct_bits = query(bits)\n",
    "    if correct_bits == N:\n",
    "        print(\"A\", \" \".join(map(str, bits)))\n",
    "        return\n",
    "\n",
    "    for i in range(N):\n",
    "        bits[i] = 1\n",
    "        new_correct_bits = query(bits)\n",
    "        if new_correct_bits <= correct_bits:\n",
    "            bits[i] = 0\n",
    "        else:\n",
    "            correct_bits = new_correct_bits\n",
    "\n",
    "    print(\"A\", \" \".join(map(str, bits)))\n",
    "\n",
    "if __name__ == \"__main__\":\n",
    "    main()\n"
   ]
  }
 ],
 "metadata": {
  "kernelspec": {
   "display_name": "Python 3 (ipykernel)",
   "language": "python",
   "name": "python3"
  },
  "language_info": {
   "codemirror_mode": {
    "name": "ipython",
    "version": 3
   },
   "file_extension": ".py",
   "mimetype": "text/x-python",
   "name": "python",
   "nbconvert_exporter": "python",
   "pygments_lexer": "ipython3",
   "version": "3.11.7"
  }
 },
 "nbformat": 4,
 "nbformat_minor": 5
}

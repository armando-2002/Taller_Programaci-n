{
 "cells": [
  {
   "cell_type": "markdown",
   "id": "d21ef56d-7a20-4628-b9b4-384f84ae5844",
   "metadata": {},
   "source": [
    "# Xplore"
   ]
  },
  {
   "cell_type": "markdown",
   "id": "f06d9346-2dbc-4675-b1ef-af01d005c40c",
   "metadata": {},
   "source": [
    "**Integrantes:**  \n",
    "- Joel Quilumba\n",
    "- Stefany Espin\n",
    "- José Sarango"
   ]
  },
  {
   "cell_type": "code",
   "execution_count": 13,
   "id": "19cd3670-55d3-4a4e-a681-91f27cc60693",
   "metadata": {},
   "outputs": [
    {
     "name": "stdin",
     "output_type": "stream",
     "text": [
      " 1\n",
      " {\"authors\": {\"authors\": [{\"author_order\": 1,\"affiliation\": \"\",\"full_name\": \"Echo\"}, {\"author_order\": 2,\"affiliation\": \"\",\"full_name\": \"Bravo\"}, {\"author_order\": 3,\"affiliation\": \"\",\"full_name\": \"Alfa\"}]},\"title\": \"Article Title 1\",\"article_number\": \"1\",\"publication_title\": \"Publication Title 1\",\"publication_number\": \"7\",\"citing_paper_count\": 9,\"publisher\": \"IEEE\"}\n"
     ]
    },
    {
     "name": "stdout",
     "output_type": "stream",
     "text": [
      "Alfa 1\n",
      "Bravo 1\n",
      "Echo 1\n"
     ]
    }
   ],
   "source": [
    "import json\n",
    "from collections import defaultdict\n",
    "\n",
    "def calculate_h_index(citations):\n",
    "    citations.sort(reverse=True)\n",
    "    h_index = 0\n",
    "    for i, c in enumerate(citations):\n",
    "        if c >= i + 1:\n",
    "            h_index = i + 1\n",
    "        else:\n",
    "            break\n",
    "    return h_index\n",
    "\n",
    "def getInputAPI():\n",
    "    numPapers = int(input().strip())  # Lee el número de artículos\n",
    "    papers = [input().strip() for _ in range(numPapers)]  # Lee cada artículo en formato JSON\n",
    "    return papers\n",
    "\n",
    "def main():\n",
    "    try:\n",
    "        articles_json = getInputAPI()\n",
    "        articles = [json.loads(article) for article in articles_json]\n",
    "    except (json.JSONDecodeError, ValueError):\n",
    "        print(\"Error: Formato de entrada inválido.\")\n",
    "        return\n",
    "    \n",
    "    author_citations = defaultdict(list)\n",
    "    \n",
    "    for article in articles:\n",
    "        authors = article.get('authors', {}).get('authors', [])\n",
    "        citations = article.get('citing_paper_count', 0)\n",
    "        for author in authors:\n",
    "            author_citations[author.get('full_name', '')].append(citations)\n",
    "    \n",
    "    author_h_index = {}\n",
    "    for author, citations in author_citations.items():\n",
    "        author_h_index[author] = calculate_h_index(citations)\n",
    "    \n",
    "    sorted_authors = sorted(author_h_index.items(), key=lambda x: (-x[1], x[0]))\n",
    "    \n",
    "    for author, h_index in sorted_authors:\n",
    "        print(f\"{author} {h_index}\")\n",
    "\n",
    "if __name__ == \"__main__\":\n",
    "    main()\n"
   ]
  },
  {
   "cell_type": "code",
   "execution_count": null,
   "id": "6ca5790d-c411-47e8-b7ac-2fa5c7ed1a64",
   "metadata": {},
   "outputs": [],
   "source": []
  }
 ],
 "metadata": {
  "kernelspec": {
   "display_name": "Python 3 (ipykernel)",
   "language": "python",
   "name": "python3"
  },
  "language_info": {
   "codemirror_mode": {
    "name": "ipython",
    "version": 3
   },
   "file_extension": ".py",
   "mimetype": "text/x-python",
   "name": "python",
   "nbconvert_exporter": "python",
   "pygments_lexer": "ipython3",
   "version": "3.11.7"
  }
 },
 "nbformat": 4,
 "nbformat_minor": 5
}
